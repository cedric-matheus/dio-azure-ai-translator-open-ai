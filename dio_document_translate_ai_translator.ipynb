{
  "nbformat": 4,
  "nbformat_minor": 0,
  "metadata": {
    "colab": {
      "provenance": [],
      "authorship_tag": "ABX9TyNlu7sINrJhDogmZCRTRGXF",
      "include_colab_link": true
    },
    "kernelspec": {
      "name": "python3",
      "display_name": "Python 3"
    },
    "language_info": {
      "name": "python"
    }
  },
  "cells": [
    {
      "cell_type": "markdown",
      "metadata": {
        "id": "view-in-github",
        "colab_type": "text"
      },
      "source": [
        "<a href=\"https://colab.research.google.com/github/cedric-matheus/dio-azure-ai-translator-open-ai/blob/main/dio_document_translate_ai_translator.ipynb\" target=\"_parent\"><img src=\"https://colab.research.google.com/assets/colab-badge.svg\" alt=\"Open In Colab\"/></a>"
      ]
    },
    {
      "cell_type": "code",
      "execution_count": 2,
      "metadata": {
        "colab": {
          "base_uri": "https://localhost:8080/"
        },
        "id": "sn6zYM0QoVhW",
        "outputId": "5d1bc389-05c0-4c2e-f5b6-f13de01faef0"
      },
      "outputs": [
        {
          "output_type": "stream",
          "name": "stdout",
          "text": [
            "Requirement already satisfied: requests in /usr/local/lib/python3.10/dist-packages (2.32.3)\n",
            "Requirement already satisfied: python-docx in /usr/local/lib/python3.10/dist-packages (1.1.2)\n",
            "Requirement already satisfied: charset-normalizer<4,>=2 in /usr/local/lib/python3.10/dist-packages (from requests) (3.4.0)\n",
            "Requirement already satisfied: idna<4,>=2.5 in /usr/local/lib/python3.10/dist-packages (from requests) (3.10)\n",
            "Requirement already satisfied: urllib3<3,>=1.21.1 in /usr/local/lib/python3.10/dist-packages (from requests) (2.2.3)\n",
            "Requirement already satisfied: certifi>=2017.4.17 in /usr/local/lib/python3.10/dist-packages (from requests) (2024.8.30)\n",
            "Requirement already satisfied: lxml>=3.1.0 in /usr/local/lib/python3.10/dist-packages (from python-docx) (5.3.0)\n",
            "Requirement already satisfied: typing-extensions>=4.9.0 in /usr/local/lib/python3.10/dist-packages (from python-docx) (4.12.2)\n"
          ]
        }
      ],
      "source": [
        "!pip install requests python-docx"
      ]
    },
    {
      "cell_type": "code",
      "source": [
        "import requests\n",
        "import os\n",
        "from docx import Document\n",
        "\n",
        "subscription_key = \"coloque_sua_chave_aqui\"\n",
        "endpoint = \"https://api.cognitive.microsofttranslator.com/\"\n",
        "location = \"brazilsouth\"\n",
        "\n",
        "language_destination = \"pt-br\"\n",
        "\n",
        "def translate_text(text, target_language):\n",
        "  path=\"/translate\"\n",
        "  constructed_url = endpoint + path\n",
        "\n",
        "  headers = {\n",
        "      \"Ocp-Apim-Subscription-Key\": subscription_key,\n",
        "      \"Ocp-Apim-Subscription-Region\": location,\n",
        "      \"Content-type\": \"application/json\",\n",
        "      \"X-ClientTraceId\": str(os.urandom(16))\n",
        "  }\n",
        "\n",
        "  body = [{\n",
        "      \"text\": text\n",
        "  }]\n",
        "\n",
        "  params = {\n",
        "      \"api-version\": \"3.0\",\n",
        "      \"from\": \"en\",\n",
        "      \"to\": target_language\n",
        "  }\n",
        "\n",
        "  request = requests.post(constructed_url, params=params, headers=headers, json=body)\n",
        "  response = request.json()\n",
        "  return response[0][\"translations\"][0][\"text\"]"
      ],
      "metadata": {
        "id": "iSSKadBbrK-B"
      },
      "execution_count": 3,
      "outputs": []
    },
    {
      "cell_type": "code",
      "source": [
        "translate_text(\"I know you're somewhere out there, somewhere far away\", language_destination)"
      ],
      "metadata": {
        "colab": {
          "base_uri": "https://localhost:8080/",
          "height": 36
        },
        "id": "xO1RHTN3vIdZ",
        "outputId": "70775384-c9b7-4374-88c3-6e83e0a08613"
      },
      "execution_count": 5,
      "outputs": [
        {
          "output_type": "execute_result",
          "data": {
            "text/plain": [
              "'Eu sei que você está em algum lugar lá fora, em algum lugar distante'"
            ],
            "application/vnd.google.colaboratory.intrinsic+json": {
              "type": "string"
            }
          },
          "metadata": {},
          "execution_count": 5
        }
      ]
    },
    {
      "cell_type": "code",
      "source": [
        "def translate_document(path):\n",
        "  document = Document(path)\n",
        "  translated_doc = Document()\n",
        "  path_translated = path.replace(\".docx\", f\"_{language_destination}.docx\")\n",
        "\n",
        "  for paragraph in document.paragraphs:\n",
        "    translated_text = translate_text(paragraph.text, language_destination)\n",
        "    translated_doc.add_paragraph(translated_text)\n",
        "\n",
        "  translated_doc.save(path_translated)\n",
        "\n",
        "  return path_translated"
      ],
      "metadata": {
        "id": "mLRCljbFvy15"
      },
      "execution_count": 8,
      "outputs": []
    },
    {
      "cell_type": "code",
      "source": [
        "input_file = \"/content/talking-to-the-moon.docx\"\n",
        "translate_document(input_file)"
      ],
      "metadata": {
        "colab": {
          "base_uri": "https://localhost:8080/",
          "height": 36
        },
        "id": "ALTJpO0kxX1J",
        "outputId": "3a0065b1-dc6c-48ba-e62d-b2cc352e5f5a"
      },
      "execution_count": 9,
      "outputs": [
        {
          "output_type": "execute_result",
          "data": {
            "text/plain": [
              "'/content/talking-to-the-moon_pt-br.docx'"
            ],
            "application/vnd.google.colaboratory.intrinsic+json": {
              "type": "string"
            }
          },
          "metadata": {},
          "execution_count": 9
        }
      ]
    }
  ]
}