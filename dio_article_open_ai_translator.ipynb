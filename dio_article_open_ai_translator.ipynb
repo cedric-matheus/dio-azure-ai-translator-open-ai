{
  "nbformat": 4,
  "nbformat_minor": 0,
  "metadata": {
    "colab": {
      "provenance": [],
      "authorship_tag": "ABX9TyMkjwhcHD81vPRtI8GR5nLC",
      "include_colab_link": true
    },
    "kernelspec": {
      "name": "python3",
      "display_name": "Python 3"
    },
    "language_info": {
      "name": "python"
    }
  },
  "cells": [
    {
      "cell_type": "markdown",
      "metadata": {
        "id": "view-in-github",
        "colab_type": "text"
      },
      "source": [
        "<a href=\"https://colab.research.google.com/github/cedric-matheus/dio-azure-ai-translator-open-ai/blob/main/dio_article_open_ai_translator.ipynb\" target=\"_parent\"><img src=\"https://colab.research.google.com/assets/colab-badge.svg\" alt=\"Open In Colab\"/></a>"
      ]
    },
    {
      "cell_type": "code",
      "execution_count": 2,
      "metadata": {
        "colab": {
          "base_uri": "https://localhost:8080/"
        },
        "id": "vLEbupAA1CGz",
        "outputId": "bc50763d-1651-4288-ee58-95900c60c842"
      },
      "outputs": [
        {
          "output_type": "stream",
          "name": "stdout",
          "text": [
            "Requirement already satisfied: requests in /usr/local/lib/python3.10/dist-packages (2.32.3)\n",
            "Requirement already satisfied: beautifulsoup4 in /usr/local/lib/python3.10/dist-packages (4.12.3)\n",
            "Requirement already satisfied: openai==1.55.3 in /usr/local/lib/python3.10/dist-packages (1.55.3)\n",
            "Requirement already satisfied: langchain-openai in /usr/local/lib/python3.10/dist-packages (0.2.11)\n",
            "Requirement already satisfied: httpx==0.27.2 in /usr/local/lib/python3.10/dist-packages (0.27.2)\n",
            "Requirement already satisfied: anyio<5,>=3.5.0 in /usr/local/lib/python3.10/dist-packages (from openai==1.55.3) (4.7.0)\n",
            "Requirement already satisfied: distro<2,>=1.7.0 in /usr/local/lib/python3.10/dist-packages (from openai==1.55.3) (1.9.0)\n",
            "Requirement already satisfied: jiter<1,>=0.4.0 in /usr/local/lib/python3.10/dist-packages (from openai==1.55.3) (0.8.0)\n",
            "Requirement already satisfied: pydantic<3,>=1.9.0 in /usr/local/lib/python3.10/dist-packages (from openai==1.55.3) (2.10.3)\n",
            "Requirement already satisfied: sniffio in /usr/local/lib/python3.10/dist-packages (from openai==1.55.3) (1.3.1)\n",
            "Requirement already satisfied: tqdm>4 in /usr/local/lib/python3.10/dist-packages (from openai==1.55.3) (4.67.1)\n",
            "Requirement already satisfied: typing-extensions<5,>=4.11 in /usr/local/lib/python3.10/dist-packages (from openai==1.55.3) (4.12.2)\n",
            "Requirement already satisfied: certifi in /usr/local/lib/python3.10/dist-packages (from httpx==0.27.2) (2024.8.30)\n",
            "Requirement already satisfied: httpcore==1.* in /usr/local/lib/python3.10/dist-packages (from httpx==0.27.2) (1.0.7)\n",
            "Requirement already satisfied: idna in /usr/local/lib/python3.10/dist-packages (from httpx==0.27.2) (3.10)\n",
            "Requirement already satisfied: h11<0.15,>=0.13 in /usr/local/lib/python3.10/dist-packages (from httpcore==1.*->httpx==0.27.2) (0.14.0)\n",
            "Requirement already satisfied: charset-normalizer<4,>=2 in /usr/local/lib/python3.10/dist-packages (from requests) (3.4.0)\n",
            "Requirement already satisfied: urllib3<3,>=1.21.1 in /usr/local/lib/python3.10/dist-packages (from requests) (2.2.3)\n",
            "Requirement already satisfied: soupsieve>1.2 in /usr/local/lib/python3.10/dist-packages (from beautifulsoup4) (2.6)\n",
            "Requirement already satisfied: langchain-core<0.4.0,>=0.3.21 in /usr/local/lib/python3.10/dist-packages (from langchain-openai) (0.3.22)\n",
            "Requirement already satisfied: tiktoken<1,>=0.7 in /usr/local/lib/python3.10/dist-packages (from langchain-openai) (0.8.0)\n",
            "Requirement already satisfied: exceptiongroup>=1.0.2 in /usr/local/lib/python3.10/dist-packages (from anyio<5,>=3.5.0->openai==1.55.3) (1.2.2)\n",
            "Requirement already satisfied: PyYAML>=5.3 in /usr/local/lib/python3.10/dist-packages (from langchain-core<0.4.0,>=0.3.21->langchain-openai) (6.0.2)\n",
            "Requirement already satisfied: jsonpatch<2.0,>=1.33 in /usr/local/lib/python3.10/dist-packages (from langchain-core<0.4.0,>=0.3.21->langchain-openai) (1.33)\n",
            "Requirement already satisfied: langsmith<0.2.0,>=0.1.125 in /usr/local/lib/python3.10/dist-packages (from langchain-core<0.4.0,>=0.3.21->langchain-openai) (0.1.147)\n",
            "Requirement already satisfied: packaging<25,>=23.2 in /usr/local/lib/python3.10/dist-packages (from langchain-core<0.4.0,>=0.3.21->langchain-openai) (24.2)\n",
            "Requirement already satisfied: tenacity!=8.4.0,<10.0.0,>=8.1.0 in /usr/local/lib/python3.10/dist-packages (from langchain-core<0.4.0,>=0.3.21->langchain-openai) (9.0.0)\n",
            "Requirement already satisfied: annotated-types>=0.6.0 in /usr/local/lib/python3.10/dist-packages (from pydantic<3,>=1.9.0->openai==1.55.3) (0.7.0)\n",
            "Requirement already satisfied: pydantic-core==2.27.1 in /usr/local/lib/python3.10/dist-packages (from pydantic<3,>=1.9.0->openai==1.55.3) (2.27.1)\n",
            "Requirement already satisfied: regex>=2022.1.18 in /usr/local/lib/python3.10/dist-packages (from tiktoken<1,>=0.7->langchain-openai) (2024.11.6)\n",
            "Requirement already satisfied: jsonpointer>=1.9 in /usr/local/lib/python3.10/dist-packages (from jsonpatch<2.0,>=1.33->langchain-core<0.4.0,>=0.3.21->langchain-openai) (3.0.0)\n",
            "Requirement already satisfied: orjson<4.0.0,>=3.9.14 in /usr/local/lib/python3.10/dist-packages (from langsmith<0.2.0,>=0.1.125->langchain-core<0.4.0,>=0.3.21->langchain-openai) (3.10.12)\n",
            "Requirement already satisfied: requests-toolbelt<2.0.0,>=1.0.0 in /usr/local/lib/python3.10/dist-packages (from langsmith<0.2.0,>=0.1.125->langchain-core<0.4.0,>=0.3.21->langchain-openai) (1.0.0)\n"
          ]
        }
      ],
      "source": [
        "!pip install requests beautifulsoup4 openai==1.55.3 langchain-openai httpx==0.27.2"
      ]
    },
    {
      "cell_type": "code",
      "source": [
        "import requests\n",
        "from bs4 import BeautifulSoup\n",
        "\n",
        "def extract_text_from_url(url):\n",
        "  response = requests.get(url)\n",
        "\n",
        "  if response.status_code == 200:\n",
        "    soup = BeautifulSoup(response.text, 'html.parser')\n",
        "    for script_or_style in soup(['script', 'style']):\n",
        "      script_or_style.decompose()\n",
        "    text = soup.get_text(separator = ' ')\n",
        "    lines = (line.strip() for line in text.splitlines())\n",
        "    #parts = (phrase.strip() for line in lines for phrase in line.split(' '))\n",
        "    #cleaned_text = '\\n'.join(part for part in parts if part)\n",
        "    #cleaned_text = '\\n'.join(line.strip() for line in lines)\n",
        "    cleaned_text = '\\n'.join(line.strip() for line in lines if line)\n",
        "  else:\n",
        "    print(f'Failed to fetch the URL. Status code: {response.status_code}')\n",
        "    return None\n",
        "\n",
        "  return cleaned_text\n",
        "\n",
        "extract_text_from_url('https://dev.to/joodi/honojs-a-lightweight-framework-with-big-potential-3lh9')"
      ],
      "metadata": {
        "colab": {
          "base_uri": "https://localhost:8080/",
          "height": 123
        },
        "id": "pOudqD3F1Nnw",
        "outputId": "1a8ff4e4-707f-4dc4-b0ce-277e825f7c24"
      },
      "execution_count": 3,
      "outputs": [
        {
          "output_type": "execute_result",
          "data": {
            "text/plain": [
              "'Hono.js: A Lightweight Framework with Big Potential 🚀 - DEV Community\\nSkip to content\\nNavigation menu\\nSearch\\nPowered by\\nSearch\\nAlgolia\\nSearch\\nLog in\\nCreate account\\nDEV Community\\nClose\\nAdd reaction\\nLike\\nUnicorn\\nExploding Head\\nRaised Hands\\nFire\\nJump to Comments\\nSave\\nBoost\\nMore...\\nCopy link\\nCopy link\\nCopied to Clipboard\\nShare to X\\nShare to LinkedIn\\nShare to Facebook\\nShare to Mastodon\\nReport Abuse\\nJoodi\\nPosted on  Dec 1\\nHono.js: A Lightweight Framework with Big Potential 🚀\\n# honojs\\n# nextjs\\n# react\\n# typescript\\nWhen it comes to modern web development, simplicity, speed, and adaptability are the new cornerstones. Enter  Hono.js , a minimalist yet powerful framework designed to thrive in cutting-edge environments like Cloudflare Workers, Deno, and Bun. While still relatively under the radar, Hono.js is quickly carving out a niche for developers who want a no-nonsense, high-performance solution for building web apps and APIs.\\nWhy Hono.js Stands Out\\nBlazing Fast and Lightweight:\\nHono.js prioritizes speed and efficiency. Its ultra-small size means it doesn’t bog down your application with unnecessary overhead, making it ideal for performance-critical projects.\\nModern by Design:\\nHono.js embraces environments that define the future of web development, such as edge computing platforms like Cloudflare Workers. This makes it an excellent choice for developers looking to push their apps closer to users for lightning-fast responses.\\nFamiliar Yet Innovative:\\nIf you’ve worked with Express.js, Hono.js will feel like a familiar friend with a sharper edge. It retains the simplicity of Express but introduces more modern concepts, all while staying highly modular.\\nTypeScript First:\\nSay goodbye to guesswork! Hono.js comes with full TypeScript support, ensuring you can write maintainable and robust code without sacrificing developer experience.\\nA Growing Ecosystem:\\nWith a solid foundation for middleware and plugin support, Hono.js is steadily growing an ecosystem that meets real-world demands. From authentication to caching, developers can extend functionality without friction.\\nWhy Hono.js Has a Bright Future  🌟\\nThe development landscape is evolving rapidly, with increasing demand for tools that deliver  efficiency ,  scalability , and  modernity . Hono.js checks all these boxes while remaining refreshingly straightforward.\\nIts focus on edge-native environments positions it perfectly for the rise of  serverless computing ,  microservices , and  distributed architectures . With more developers experimenting with platforms like Deno and Bun, Hono.js is likely to see significant adoption in the coming years.\\nMoreover, its lightweight nature makes it a great fit for startups and solo developers who want speed without sacrificing quality.\\nWhen Should You Try Hono.js?\\nYou’re building an API or web app that needs to be lean and fast.\\nYou want to deploy on modern platforms like Cloudflare Workers, Deno, or Bun.\\nYou love Express.js, but you’re ready for something lighter and more future-proof.\\nClosing Thoughts\\nHono.js might not have the massive community of giants like Express or Next.js—yet—but its potential is undeniable. It offers developers a chance to explore cutting-edge tools while staying productive and efficient. Whether you\\'re building the next big thing or a small side project, Hono.js is worth a look.\\nThe web development world moves fast. Hono.js ensures you stay ahead. 🛠️\\nTop comments  (35)\\nSubscribe\\nPersonal\\nTrusted User\\nCreate template\\nTemplates let you quickly answer FAQs or store snippets for re-use.\\nSubmit\\nPreview\\nDismiss\\nCollapse\\nExpand\\ngunslingor\\ngunslingor\\ngunslingor\\nFollow\\nJoined\\nFeb 17, 2023\\n•\\nDec 3\\n• Edited on  Dec 3\\n• Edited\\nDropdown menu\\nCopy link\\nHide\\nLooks like 1000 things before, a clone of a pure node based api wrapper. Seems like a pretty basic implementation, doesn\\'t seem to allow enforced hierarchical routing, routes are burried in a func. Not sure why anyone would pick this over express, if nothing more than by comparing documentation and proven use cases. What does it have to offer over the other clones, hard objective numbers... the words in bold in the article are marketing terms... unless you can prove it has better \"efficiency, scalability, and modernity\" than all others... good luck 🤣.\\nLike comment:\\nLike comment:\\n20 \\xa0likes\\nLike\\nComment button\\nReply\\nCollapse\\nExpand\\nFlorian Rappl\\nFlorian Rappl\\nFlorian Rappl\\nFollow\\nSolution Architect in the IoT space with a fable for distributed computing. I love to develop software that works :-).\\nLocation\\nMunich, Germany\\nWork\\nSolution Architect at smapiot\\nJoined\\nNov 9, 2019\\n•\\nDec 3\\n• Edited on  Dec 4\\n• Edited\\nDropdown menu\\nCopy link\\nHide\\nI used hono like a year ago and I think if all you want is to target a Node.js server you are indeed better off with express (or even better something like Fastify).\\nHono shines when you want to decouple from the runtime. For instance, if you want to run today on Cloudflare Worker, tomorrow on AWS Lambda and next week on some other platform that may not have a full Node.js runtime then hono is useful. It brings those platforms into a common API. You build once and the adapters guarantee that it can be shipped to those.\\nThat\\'s also why it is being used by many frameworks as the working horse underneath. It is an abstraction over the potential deployment targets.\\nLike comment:\\nLike comment:\\n7 \\xa0likes\\nLike\\nComment button\\nReply\\nCollapse\\nExpand\\nJoodi\\nJoodi\\nJoodi\\nFollow\\n𝗙𝗿𝗼𝗻𝘁-𝗲𝗻𝗱 𝗱𝗲𝘃𝗲𝗹𝗼𝗽𝗲𝗿 sharing what I learn. I introduce new tools and ideas here—your support means the world! 🚀\\nJoined\\nMar 2, 2024\\n•\\nDec 6\\n• Edited on  Dec 6\\n• Edited\\nDropdown menu\\nCopy link\\nHide\\nThanks for sharing your experience! Totally agree—Hono’s real strength is its flexibility across runtimes and platforms. For Node.js-specific projects, Express or Fastify can definitely be great picks, but Hono’s abstraction makes it shine in edge-native and multi-platform setups. Appreciate your insights! ✔️\\nLike comment:\\nLike comment:\\n2 \\xa0likes\\nLike\\nComment button\\nReply\\nCollapse\\nExpand\\nJoodi\\nJoodi\\nJoodi\\nFollow\\n𝗙𝗿𝗼𝗻𝘁-𝗲𝗻𝗱 𝗱𝗲𝘃𝗲𝗹𝗼𝗽𝗲𝗿 sharing what I learn. I introduce new tools and ideas here—your support means the world! 🚀\\nJoined\\nMar 2, 2024\\n•\\nDec 6\\nDropdown menu\\nCopy link\\nHide\\nHey, thanks so much for taking the time to share your thoughts! I totally get where you’re coming from, and I really appreciate your feedback. Let me address a couple of the points you raised:\\nAbout routing: Hono.js is designed to be super lightweight and minimalist. It might not enforce \"hierarchical routing\" out of the box, but it’s got simplicity and flexibility that many developers really value.\\nComparison with Express: 100% agree that Express is a rock-solid tool with amazing documentation and proven reliability. But Hono.js is built with modern environments like Cloudflare Workers in mind, where speed and a small footprint really make a difference.\\nOn \"efficiency and scalability\": I get that these words might sound like marketing buzzwords, but they genuinely reflect what Hono.js aims to achieve—especially in edge-native platforms like Deno or Bun. I promise I’ll include benchmarks and real-world examples in future posts to back this up!\\nThanks again for bringing this up—it’s feedback like yours that sparks great discussions and helps improve things! Looking forward to hearing more from you. 🙌\\nLike comment:\\nLike comment:\\n3 \\xa0likes\\nLike\\nComment button\\nReply\\nCollapse\\nExpand\\nIlja Gužovski\\nIlja Gužovski\\nIlja Gužovski\\nFollow\\nJoined\\nAug 12, 2024\\n•\\nDec 3\\nDropdown menu\\nCopy link\\nHide\\nI used it because it is only framework that worked with ssr jsx out of the box.\\nLike comment:\\nLike comment:\\n4 \\xa0likes\\nLike\\nComment button\\nReply\\nCollapse\\nExpand\\nJoodi\\nJoodi\\nJoodi\\nFollow\\n𝗙𝗿𝗼𝗻𝘁-𝗲𝗻𝗱 𝗱𝗲𝘃𝗲𝗹𝗼𝗽𝗲𝗿 sharing what I learn. I introduce new tools and ideas here—your support means the world! 🚀\\nJoined\\nMar 2, 2024\\n•\\nDec 6\\nDropdown menu\\nCopy link\\nHide\\nThat’s awesome to hear! Out of curiosity, what kind of project were you working on where Hono’s SSR and JSX support made a big difference? Would love to know more about your experience!\\nLike comment:\\nLike comment:\\n1 \\xa0like\\nLike\\nComment button\\nReply\\nCollapse\\nExpand\\nShifa Ur Rehman\\nShifa Ur Rehman\\nShifa Ur Rehman\\nFollow\\nJoined\\nDec 13, 2021\\n•\\nDec 3\\nDropdown menu\\nCopy link\\nHide\\nLet me tell you what friend. Nothing is taking on expressjs anytime soon. Especially with v5 out and in active development and v4 getting infinite support cycle.\\nOnly thing that competes with expressjs\\'s pros are frameworks like NestJs and Fastify. Or just go with GoLang.\\nLike comment:\\nLike comment:\\n7 \\xa0likes\\nLike\\nComment button\\nReply\\nCollapse\\nExpand\\nJoodi\\nJoodi\\nJoodi\\nFollow\\n𝗙𝗿𝗼𝗻𝘁-𝗲𝗻𝗱 𝗱𝗲𝘃𝗲𝗹𝗼𝗽𝗲𝗿 sharing what I learn. I introduce new tools and ideas here—your support means the world! 🚀\\nJoined\\nMar 2, 2024\\n•\\nDec 4\\n• Edited on  Dec 4\\n• Edited\\nDropdown menu\\nCopy link\\nHide\\nYou\\'re absolutely right Express.js is a powerhouse, especially with v5 and its strong community support. Hono.js isn’t here to replace Express but to offer a lightweight, edge-native solution for platforms like Cloudflare Workers and Deno.\\nFrameworks like NestJS and Fastify are fantastic too, but Hono.js shines for performance-critical, modern environments. It’s all about the right tool for the job!\\nLike comment:\\nLike comment:\\n5 \\xa0likes\\nLike\\nComment button\\nReply\\nCollapse\\nExpand\\nHengki Candra\\nHengki Candra\\nHengki Candra\\nFollow\\nHanya orang biasa yang ingin belajar\\nLocation\\nSamarinda\\nWork\\nSoftware enginering at Eeramart\\nJoined\\nAug 22, 2020\\n•\\nDec 2\\nDropdown menu\\nCopy link\\nHide\\nalternatif expres.js fast get resfull api , like this\\nLike comment:\\nLike comment:\\n6 \\xa0likes\\nLike\\nComment button\\nReply\\nCollapse\\nExpand\\nJoodi\\nJoodi\\nJoodi\\nFollow\\n𝗙𝗿𝗼𝗻𝘁-𝗲𝗻𝗱 𝗱𝗲𝘃𝗲𝗹𝗼𝗽𝗲𝗿 sharing what I learn. I introduce new tools and ideas here—your support means the world! 🚀\\nJoined\\nMar 2, 2024\\n•\\nDec 2\\nDropdown menu\\nCopy link\\nHide\\nExactly! Hono.js is indeed a lightweight and super-fast framework that works great for building RESTful APIs, especially when performance and speed are critical. I\\'d love to hear about your experience with Hono.js if you\\'ve used it!\\nLike comment:\\nLike comment:\\n5 \\xa0likes\\nLike\\nComment button\\nReply\\nCollapse\\nExpand\\nArafat Hossain Ar\\nArafat Hossain Ar\\nArafat Hossain Ar\\nFollow\\nFullstack Developer with the ability of Design and Develop rich Web & Desktop Applications.\\nLocation\\nDhaka, Bangladesh\\nEducation\\nComputer Science and Engineering at Shanto-Mariam University of Creative Technology\\nPronouns\\nHe/Him\\nWork\\nFullstack Developer\\nJoined\\nAug 29, 2021\\n•\\nDec 2\\nDropdown menu\\nCopy link\\nHide\\nLooks promising. Let\\'s see\\nLike comment:\\nLike comment:\\n4 \\xa0likes\\nLike\\nComment button\\nReply\\nCollapse\\nExpand\\nJoodi\\nJoodi\\nJoodi\\nFollow\\n𝗙𝗿𝗼𝗻𝘁-𝗲𝗻𝗱 𝗱𝗲𝘃𝗲𝗹𝗼𝗽𝗲𝗿 sharing what I learn. I introduce new tools and ideas here—your support means the world! 🚀\\nJoined\\nMar 2, 2024\\n•\\nDec 4\\nDropdown menu\\nCopy link\\nHide\\nTotally! 🚀\\nLike comment:\\nLike comment:\\n3 \\xa0likes\\nLike\\nComment button\\nReply\\nCollapse\\nExpand\\nKristiyan Velkov\\nKristiyan Velkov\\nKristiyan Velkov\\nFollow\\nFront-end Advocate || Mentor || Leader || Blogger\\nLocation\\nBulgaria, Sofia\\nJoined\\nNov 20, 2022\\n•\\nDec 3\\nDropdown menu\\nCopy link\\nHide\\nTake your TypeScript skills to new heights with \" Mastering TypeScript Core Utility Types \":\\n📖  Buy on Leanpub\\n📖  Buy on Amazon\\nLike comment:\\nLike comment:\\n3 \\xa0likes\\nLike\\nComment button\\nReply\\nCollapse\\nExpand\\nAthaariq Ardhiansyah\\nAthaariq Ardhiansyah\\nAthaariq Ardhiansyah\\nFollow\\nCoding4Life ✌\\nLocation\\nJava Island, Indonesia\\nJoined\\nJun 17, 2019\\n•\\nDec 3\\nDropdown menu\\nCopy link\\nHide\\nPuny sales. No one gonna buy/subscribe your product if your approach is not natural\\nLike comment:\\nLike comment:\\n3 \\xa0likes\\nLike\\nComment button\\nReply\\nCollapse\\nExpand\\nJoodi\\nJoodi\\nJoodi\\nFollow\\n𝗙𝗿𝗼𝗻𝘁-𝗲𝗻𝗱 𝗱𝗲𝘃𝗲𝗹𝗼𝗽𝗲𝗿 sharing what I learn. I introduce new tools and ideas here—your support means the world! 🚀\\nJoined\\nMar 2, 2024\\n•\\nDec 4\\nDropdown menu\\nCopy link\\nHide\\nGot it, thanks for the feedback! 🙏\\nLike comment:\\nLike comment:\\n2 \\xa0likes\\nLike\\nComment button\\nReply\\nCollapse\\nExpand\\nNick Mousavi\\nNick Mousavi\\nNick Mousavi\\nFollow\\nI\\'m Nick, let\\'s talk!\\nLocation\\nAnywhere, remote\\nJoined\\nMar 1, 2021\\n•\\nDec 3\\nDropdown menu\\nCopy link\\nHide\\nOne year ago, I developed  Scrum Planning Poker  using Hono, deploying the backend on Cloudflare Workers and it worked flawlessly!\\nLike comment:\\nLike comment:\\n5 \\xa0likes\\nLike\\nComment button\\nReply\\nCollapse\\nExpand\\nJoodi\\nJoodi\\nJoodi\\nFollow\\n𝗙𝗿𝗼𝗻𝘁-𝗲𝗻𝗱 𝗱𝗲𝘃𝗲𝗹𝗼𝗽𝗲𝗿 sharing what I learn. I introduce new tools and ideas here—your support means the world! 🚀\\nJoined\\nMar 2, 2024\\n•\\nDec 4\\nDropdown menu\\nCopy link\\nHide\\nAwesome! It\\'s great that you shared your experience with us. 🙌\\nLike comment:\\nLike comment:\\n4 \\xa0likes\\nLike\\nComment button\\nReply\\nCollapse\\nExpand\\nNicolas Talle\\nNicolas Talle\\nNicolas Talle\\nFollow\\nCTO (part-time work) & Freelance\\nLocation\\nBasque country - France\\nJoined\\nNov 22, 2018\\n•\\nDec 5\\nDropdown menu\\nCopy link\\nHide\\nI\\'m currently working on a project with Hono.js on Bun.js. So far, so good, no unpleasant surprises. I\\'m happy with Hono :)\\nThe error handling, I prefer the Express 5 way. Not a fan of Exception everywhere for error handling. But no big deal, it\\'s still efficient and practical for catching different types of error.\\nLike comment:\\nLike comment:\\n3 \\xa0likes\\nLike\\nComment button\\nReply\\nCollapse\\nExpand\\nJoodi\\nJoodi\\nJoodi\\nFollow\\n𝗙𝗿𝗼𝗻𝘁-𝗲𝗻𝗱 𝗱𝗲𝘃𝗲𝗹𝗼𝗽𝗲𝗿 sharing what I learn. I introduce new tools and ideas here—your support means the world! 🚀\\nJoined\\nMar 2, 2024\\n•\\nDec 5\\nDropdown menu\\nCopy link\\nHide\\nThat\\'s great to hear you\\'re having a smooth experience with Hono.js on Bun.js! I totally get your preference for the Express 5 error handling style—it does feel more structured. But it\\'s good to know that Hono\\'s approach is still practical and efficient. Do you think Bun.js adds any significant benefits compared to Node.js?\\nLike comment:\\nLike comment:\\n1 \\xa0like\\nLike\\nComment button\\nReply\\nCollapse\\nExpand\\ncyberpriest\\ncyberpriest\\ncyberpriest\\nFollow\\nI\\'m a blogger and a programmer  frontend developer\\nEmail\\njoshuatimi41@gmail.com\\nLocation\\nNigeria\\nEducation\\nHigher institution\\nWork\\nFront end developer at I\\'m not working yet\\nJoined\\nJul 16, 2019\\n•\\nDec 3\\nDropdown menu\\nCopy link\\nHide\\nHono.js is like fastapi in pythons\\nCorrect?\\nLike comment:\\nLike comment:\\n4 \\xa0likes\\nLike\\nComment button\\nReply\\nCollapse\\nExpand\\nJoodi\\nJoodi\\nJoodi\\nFollow\\n𝗙𝗿𝗼𝗻𝘁-𝗲𝗻𝗱 𝗱𝗲𝘃𝗲𝗹𝗼𝗽𝗲𝗿 sharing what I learn. I introduce new tools and ideas here—your support means the world! 🚀\\nJoined\\nMar 2, 2024\\n•\\nDec 3\\nDropdown menu\\nCopy link\\nHide\\nYes, Hono.js is similar to FastAPI in Python; both are lightweight, high-performance frameworks focused on building APIs quickly and efficiently. Hono.js is for JavaScript/TypeScript, while FastAPI is designed for Python.\\nLike comment:\\nLike comment:\\n4 \\xa0likes\\nLike\\nComment button\\nReply\\nCollapse\\nExpand\\nYeshua Osvaldo\\nYeshua Osvaldo\\nYeshua Osvaldo\\nFollow\\nC# / Typescript / Rust / Python.\\nAstro + Alpine.\\nPronouns\\nHe/Him\\nJoined\\nNov 9, 2024\\n•\\nDec 4\\nDropdown menu\\nCopy link\\nHide\\nGOOD! Soon, we are going to work with Deno 2 and the framework to run will be HonoJS, is a new thing and the new and MODERN workfload is the way to go ;). Here we work with C# (Razor Pages / MVC for enterprise level / client\\'s poject \"), the most workfload to almost all withgs is a combination that has AstroJS in everything because the simple and optimized way from it:\\nAstro + Alpine (all static and basic things where CSS + Alpine can afford with basic integrations)\\nAstro + HTMX + Alpine (when simple server is needed for a determined project)\\nAstro + HTMX + Svelte / Qwik \"in Astro Island \" (when the bigger need of interactivity by JS is really needed)\\nDeno 2 + Honor will be a grreat tool to add to our workfload and I can\\'t wait to try it for the next weeks.\\nObs.: for all those like us that settled up Astro like \"the\" framework tool, with Deno 2 you can go with the Astro Projects without need to touch Node ;) I hope Honor focus in Deno 2 because developers that appreciate a modern workfload will go with Hono to work with Deno 2 ... We are searching and analysing all frameworks to choose the best to work with Deno 2, Typescript is our way to go, there\\'s no JavaScript thinking in the company, Hono and Deno seems like the obvious couple, Deno righ now is getting a new way to play Tyepescript, but now is too late, the company is now focusing in modern web development tools. Even with the .NET workload the modern Razor Pages is the standard way for us to begin project, MVC is only used to specific\\'s project, like with Astro when interactivity (massive dynamic) is need the company way is Svelte in Astro Island and now we are training to use Qwik, a steeper learning courve instead React(I always preffered Svelte instead react), I used to work with sveltekit and love it until I met Astro that \"if\" need, I can use Svelte in Island, only what is need to accomplish the job), but I am impressed with Qwik, but was my first touch with it, I am still reading the specs, next three weeks before ending the month (december) I already will have a deeper undestanding about Qwik in truth.\\nCheers up! To modern Develop \\\\o/\\nCheers up! To Deno 2 that really deserves in version 2, must continue focus on modern workload\\nCheers up! To Hono, to make a perfect couple with Deno (continuing to work hard with DENO 2)\\nobs.: a possible Cheers up! for Astro Team (I guess maybe if they don\\'t, some others can create soon one likely to benefit the modern technology, where a JS world with frontend frameworks change constantly, we need to get updated in our skills) to rebuild Astro using Deno 2 instead Node lol ....\\nLike comment:\\nLike comment:\\n2 \\xa0likes\\nLike\\nComment button\\nReply\\nCollapse\\nExpand\\nJoodi\\nJoodi\\nJoodi\\nFollow\\n𝗙𝗿𝗼𝗻𝘁-𝗲𝗻𝗱 𝗱𝗲𝘃𝗲𝗹𝗼𝗽𝗲𝗿 sharing what I learn. I introduce new tools and ideas here—your support means the world! 🚀\\nJoined\\nMar 2, 2024\\n•\\nDec 5\\nDropdown menu\\nCopy link\\nHide\\nInteresting perspective! I\\'m currently working with Next.js and really appreciate its versatility for SSR and SSG. While I don\\'t have much experience with Deno or Astro, this has definitely piqued my curiosity about exploring modern tools like HonoJS and Qwik. Thanks for sharing your insights! ✨🙏\\nLike comment:\\nLike comment:\\n3 \\xa0likes\\nLike\\nComment button\\nReply\\nCollapse\\nExpand\\nSourabh Singh\\nSourabh Singh\\nSourabh Singh\\nFollow\\nEmail\\nsourabhsingh1812.official@gmail.com\\nJoined\\nNov 28, 2024\\n•\\nDec 6\\nDropdown menu\\nCopy link\\nHide\\nYou just used some harsh words for express js and that\\'s why you are seeing all these hate comments in your blog. But just for a reality check none of the haters even have a job, so great work but you could\\'ve been somewhat softer to express and gracefully pointed out the advantages of Hono instead of pointing out the flaws in express.\\nLike comment:\\nLike comment:\\n1 \\xa0like\\nLike\\nComment button\\nReply\\nCollapse\\nExpand\\nJoodi\\nJoodi\\nJoodi\\nFollow\\n𝗙𝗿𝗼𝗻𝘁-𝗲𝗻𝗱 𝗱𝗲𝘃𝗲𝗹𝗼𝗽𝗲𝗿 sharing what I learn. I introduce new tools and ideas here—your support means the world! 🚀\\nJoined\\nMar 2, 2024\\n•\\nDec 6\\nDropdown menu\\nCopy link\\nHide\\nThank you for sharing your perspective! My intention was never to criticize Express.js, but rather to highlight the strengths of Hono.js and compare some of their differences. Express remains one of the most powerful and popular tools in the developer community, which is why I mentioned that Hono.js would feel familiar to those experienced with Express. If my tone came across as dismissive of Express, I sincerely apologize—that was not my intention. I appreciate your feedback and will strive to make my comparisons clearer and more balanced in the future.\\nLike comment:\\nLike comment:\\n1 \\xa0like\\nLike\\nComment button\\nReply\\nView full discussion (35 comments)\\nCode of Conduct\\n•\\nReport abuse\\nAre you sure you want to hide this comment? It will become hidden in your post, but will still be visible via the comment\\'s  permalink .\\nHide child comments as well\\nConfirm\\nFor further actions, you may consider blocking this person and/or  reporting abuse\\nRead next\\nUnderstanding Expensive Calculations in React for Beginners\\nvive -  Nov 19\\nHow to use... \"use\", the new React 19 hook\\nAidan -  Nov 30\\nUpgrading from Nextra v2 to Nextra v3: A \"Quick\" Guide\\nGiovambattista Fazioli -  Oct 28\\nImplementing Dark Mode and Theme Switching using Tailwind v4 and Next.js\\nFin Chen -  Nov 29\\nJoodi\\nFollow\\n𝗙𝗿𝗼𝗻𝘁-𝗲𝗻𝗱 𝗱𝗲𝘃𝗲𝗹𝗼𝗽𝗲𝗿 sharing what I learn. I introduce new tools and ideas here—your support means the world! 🚀\\nJoined\\nMar 2, 2024\\nMore from  Joodi\\nWhy Strapi Cloud is a Game-Changer for Frontend Developers? 🚀\\n# strapicloud\\n# nextjs\\n# strapi\\n# frontend\\nNext.js & Hono.js Starter Project 🚀\\n# honojs\\n# nextjs\\n# typescript\\n# react\\nWhy Developers Are Turning to Bun: The New Hotness in JavaScript 🚀\\n# bunjs\\n# honojs\\n# nextjs\\n# typescript\\nThank you to our Diamond Sponsor  Neon  for supporting our community.\\nDEV Community  — A constructive and inclusive social network for software developers. With you every step of your journey.\\nHome\\nDEV++\\nPodcasts\\nVideos\\nTags\\nDEV Help\\nForem Shop\\nAdvertise on DEV\\nDEV Challenges\\nDEV Showcase\\nAbout\\nContact\\nFree Postgres Database\\nGuides\\nSoftware comparisons\\nCode of Conduct\\nPrivacy Policy\\nTerms of use\\nBuilt on  Forem  — the  open source  software that powers  DEV  and other inclusive communities.\\nMade with love and  Ruby on Rails . DEV Community  ©  2016 - 2024.\\nWe\\'re a place where coders share, stay up-to-date and grow their careers.\\nLog in\\nCreate account'"
            ],
            "application/vnd.google.colaboratory.intrinsic+json": {
              "type": "string"
            }
          },
          "metadata": {},
          "execution_count": 3
        }
      ]
    },
    {
      "cell_type": "code",
      "source": [
        "from langchain_openai.chat_models.azure import AzureChatOpenAI\n",
        "\n",
        "client = AzureChatOpenAI(\n",
        "    azure_endpoint='coloque_seu_endpoint_aqui',\n",
        "    api_key='coloque_sua_chave_aqui',\n",
        "    api_version='2024-07-01-preview',#\n",
        "    azure_deployment='gpt-4o-mini',\n",
        "    max_retries=0\n",
        ")\n",
        "\n",
        "def translate_article(text, lang):\n",
        "  messages = [\n",
        "      ('system', 'Você atua como tradutor de textos'),\n",
        "      ('user', f'Traduza o {text} para o idioma {lang} e responda em markdown.')\n",
        "  ]\n",
        "\n",
        "  response = client.invoke(messages)\n",
        "  return response.content\n",
        "\n",
        "translate_article('When it comes to modern web development, simplicity, speed, and adaptability are the new cornerstones.', \"português do brasil\")"
      ],
      "metadata": {
        "colab": {
          "base_uri": "https://localhost:8080/",
          "height": 36
        },
        "id": "wUYf071MH2Oa",
        "outputId": "d8a10dc2-1e0e-4df4-b4ec-066b7cddf711"
      },
      "execution_count": 7,
      "outputs": [
        {
          "output_type": "execute_result",
          "data": {
            "text/plain": [
              "'Quando se trata de desenvolvimento web moderno, simplicidade, velocidade e adaptabilidade são os novos pilares.'"
            ],
            "application/vnd.google.colaboratory.intrinsic+json": {
              "type": "string"
            }
          },
          "metadata": {},
          "execution_count": 7
        }
      ]
    },
    {
      "cell_type": "code",
      "source": [
        "url = 'https://dev.to/joodi/honojs-a-lightweight-framework-with-big-potential-3lh9'\n",
        "text = extract_text_from_url(url)\n",
        "# limite de tradução da versão é 1000 tokens\n",
        "article = translate_article(text[:1000], 'pt-br')\n",
        "\n",
        "print(article)"
      ],
      "metadata": {
        "colab": {
          "base_uri": "https://localhost:8080/"
        },
        "id": "DzTs8pBaK3mi",
        "outputId": "97cd6d02-6e47-4659-947a-b940bb991569"
      },
      "execution_count": 9,
      "outputs": [
        {
          "output_type": "stream",
          "name": "stdout",
          "text": [
            "# Hono.js: Um Framework Leve com Grande Potencial 🚀\n",
            "\n",
            "## Quando se trata de desenvolvimento web moderno, simplicidade, velocidade e adaptabilidade são as novas pedras angulares. \n",
            "\n",
            "Apresentamos o **Hono.js**, um framework minimalista, mas poderoso, projetado para prosperar em ambientes de ponta como Cloudflare Workers, Deno e Bun. Embora ainda seja relativamente desconhecido, o Hono.js está rapidamente conquistando um espaço entre os desenvolvedores que buscam uma solução descomplicada e de alto desempenho para construir aplicações web e APIs.\n",
            "\n",
            "## Por que o Hono.js se Destaca\n",
            "\n",
            "### Rápido e Leve:\n",
            "O Hono.js é projetado para ser extremamente rápido e leve, otimizando o desempenho sem comprometer a funcionalidade.\n"
          ]
        }
      ]
    },
    {
      "cell_type": "code",
      "source": [],
      "metadata": {
        "id": "9LkBP9HlLUdY"
      },
      "execution_count": null,
      "outputs": []
    }
  ]
}